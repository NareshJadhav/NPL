{
 "cells": [
  {
   "cell_type": "code",
   "execution_count": null,
   "metadata": {},
   "outputs": [],
   "source": [
    "# This is trainning own word2vec model"
   ]
  },
  {
   "cell_type": "code",
   "execution_count": 8,
   "metadata": {},
   "outputs": [],
   "source": [
    "import nltk\n",
    "import re\n",
    "from gensim.models import Word2Vec\n",
    "from nltk.corpus import stopwords\n",
    "from nltk.stem.porter import PorterStemmer\n",
    "from nltk.stem import WordNetLemmatizer\n",
    "from nltk.tokenize import sent_tokenize"
   ]
  },
  {
   "cell_type": "code",
   "execution_count": 9,
   "metadata": {},
   "outputs": [],
   "source": [
    "ps = PorterStemmer()\n",
    "lm= WordNetLemmatizer()"
   ]
  },
  {
   "cell_type": "code",
   "execution_count": 4,
   "metadata": {},
   "outputs": [],
   "source": [
    "paragraph = \"\"\"I have three visions for India. In 3000 years of our history, people from all over \n",
    "               the world have come and invaded us, captured our lands, conquered our minds. \n",
    "               From Alexander onwards, the Greeks, the Turks, the Moguls, the Portuguese, the British,\n",
    "               the French, the Dutch, all of them came and looted us, took over what was ours. \n",
    "               Yet we have not done this to any other nation. We have not conquered anyone. \n",
    "               We have not grabbed their land, their culture, \n",
    "               their history and tried to enforce our way of life on them. \n",
    "               Why? Because we respect the freedom of others.That is why my \n",
    "               first vision is that of freedom. I believe that India got its first vision of \n",
    "               this in 1857, when we started the War of Independence. It is this freedom that\n",
    "               we must protect and nurture and build on. If we are not free, no one will respect us.\n",
    "               My second vision for India’s development. For fifty years we have been a developing nation.\n",
    "               It is time we see ourselves as a developed nation. We are among the top 5 nations of the world\n",
    "               in terms of GDP. We have a 10 percent growth rate in most areas. Our poverty levels are falling.\n",
    "               Our achievements are being globally recognised today. Yet we lack the self-confidence to\n",
    "               see ourselves as a developed nation, self-reliant and self-assured. Isn’t this incorrect?\n",
    "               I have a third vision. India must stand up to the world. Because I believe that unless India \n",
    "               stands up to the world, no one will respect us. Only strength respects strength. We must be \n",
    "               strong not only as a military power but also as an economic power. Both must go hand-in-hand. \n",
    "               My good fortune was to have worked with three great minds. Dr. Vikram Sarabhai of the Dept. of \n",
    "               space, Professor Satish Dhawan, who succeeded him and Dr. Brahm Prakash, father of nuclear material.\n",
    "               I was lucky to have worked with all three of them closely and consider this the great opportunity of my life. \n",
    "               I see four milestones in my career\"\"\""
   ]
  },
  {
   "cell_type": "markdown",
   "metadata": {},
   "source": [
    "### preprocessing Data"
   ]
  },
  {
   "cell_type": "code",
   "execution_count": 10,
   "metadata": {},
   "outputs": [
    {
     "data": {
      "text/plain": [
       "['I have three visions for India.',\n",
       " 'In 3000 years of our history, people from all over \\n               the world have come and invaded us, captured our lands, conquered our minds.',\n",
       " 'From Alexander onwards, the Greeks, the Turks, the Moguls, the Portuguese, the British,\\n               the French, the Dutch, all of them came and looted us, took over what was ours.',\n",
       " 'Yet we have not done this to any other nation.',\n",
       " 'We have not conquered anyone.',\n",
       " 'We have not grabbed their land, their culture, \\n               their history and tried to enforce our way of life on them.',\n",
       " 'Why?',\n",
       " 'Because we respect the freedom of others.That is why my \\n               first vision is that of freedom.',\n",
       " 'I believe that India got its first vision of \\n               this in 1857, when we started the War of Independence.',\n",
       " 'It is this freedom that\\n               we must protect and nurture and build on.',\n",
       " 'If we are not free, no one will respect us.',\n",
       " 'My second vision for India’s development.',\n",
       " 'For fifty years we have been a developing nation.',\n",
       " 'It is time we see ourselves as a developed nation.',\n",
       " 'We are among the top 5 nations of the world\\n               in terms of GDP.',\n",
       " 'We have a 10 percent growth rate in most areas.',\n",
       " 'Our poverty levels are falling.',\n",
       " 'Our achievements are being globally recognised today.',\n",
       " 'Yet we lack the self-confidence to\\n               see ourselves as a developed nation, self-reliant and self-assured.',\n",
       " 'Isn’t this incorrect?',\n",
       " 'I have a third vision.',\n",
       " 'India must stand up to the world.',\n",
       " 'Because I believe that unless India \\n               stands up to the world, no one will respect us.',\n",
       " 'Only strength respects strength.',\n",
       " 'We must be \\n               strong not only as a military power but also as an economic power.',\n",
       " 'Both must go hand-in-hand.',\n",
       " 'My good fortune was to have worked with three great minds.',\n",
       " 'Dr. Vikram Sarabhai of the Dept.',\n",
       " 'of \\n               space, Professor Satish Dhawan, who succeeded him and Dr. Brahm Prakash, father of nuclear material.',\n",
       " 'I was lucky to have worked with all three of them closely and consider this the great opportunity of my life.',\n",
       " 'I see four milestones in my career']"
      ]
     },
     "execution_count": 10,
     "metadata": {},
     "output_type": "execute_result"
    }
   ],
   "source": [
    "sent = sent_tokenize(paragraph)\n",
    "sent"
   ]
  },
  {
   "cell_type": "code",
   "execution_count": 21,
   "metadata": {},
   "outputs": [],
   "source": [
    "corpus = []\n",
    "for i in range(len(sent)):\n",
    "    review = re.sub('[^a-zA-Z]',' ',sent[i])\n",
    "    review = review.lower()\n",
    "    review = review.split()\n",
    "    review = [lm.lemmatize(word) for word in review if not word in set(stopwords.words('english'))]\n",
    "    \n",
    "    corpus.append(review)"
   ]
  },
  {
   "cell_type": "code",
   "execution_count": 22,
   "metadata": {},
   "outputs": [
    {
     "data": {
      "text/plain": [
       "[['three', 'vision', 'india'],\n",
       " ['year',\n",
       "  'history',\n",
       "  'people',\n",
       "  'world',\n",
       "  'come',\n",
       "  'invaded',\n",
       "  'u',\n",
       "  'captured',\n",
       "  'land',\n",
       "  'conquered',\n",
       "  'mind'],\n",
       " ['alexander',\n",
       "  'onwards',\n",
       "  'greek',\n",
       "  'turk',\n",
       "  'mogul',\n",
       "  'portuguese',\n",
       "  'british',\n",
       "  'french',\n",
       "  'dutch',\n",
       "  'came',\n",
       "  'looted',\n",
       "  'u',\n",
       "  'took'],\n",
       " ['yet', 'done', 'nation'],\n",
       " ['conquered', 'anyone'],\n",
       " ['grabbed', 'land', 'culture', 'history', 'tried', 'enforce', 'way', 'life'],\n",
       " [],\n",
       " ['respect', 'freedom', 'others', 'first', 'vision', 'freedom'],\n",
       " ['believe',\n",
       "  'india',\n",
       "  'got',\n",
       "  'first',\n",
       "  'vision',\n",
       "  'started',\n",
       "  'war',\n",
       "  'independence'],\n",
       " ['freedom', 'must', 'protect', 'nurture', 'build'],\n",
       " ['free', 'one', 'respect', 'u'],\n",
       " ['second', 'vision', 'india', 'development'],\n",
       " ['fifty', 'year', 'developing', 'nation'],\n",
       " ['time', 'see', 'developed', 'nation'],\n",
       " ['among', 'top', 'nation', 'world', 'term', 'gdp'],\n",
       " ['percent', 'growth', 'rate', 'area'],\n",
       " ['poverty', 'level', 'falling'],\n",
       " ['achievement', 'globally', 'recognised', 'today'],\n",
       " ['yet',\n",
       "  'lack',\n",
       "  'self',\n",
       "  'confidence',\n",
       "  'see',\n",
       "  'developed',\n",
       "  'nation',\n",
       "  'self',\n",
       "  'reliant',\n",
       "  'self',\n",
       "  'assured'],\n",
       " ['incorrect'],\n",
       " ['third', 'vision'],\n",
       " ['india', 'must', 'stand', 'world'],\n",
       " ['believe', 'unless', 'india', 'stand', 'world', 'one', 'respect', 'u'],\n",
       " ['strength', 'respect', 'strength'],\n",
       " ['must', 'strong', 'military', 'power', 'also', 'economic', 'power'],\n",
       " ['must', 'go', 'hand', 'hand'],\n",
       " ['good', 'fortune', 'worked', 'three', 'great', 'mind'],\n",
       " ['dr', 'vikram', 'sarabhai', 'dept'],\n",
       " ['space',\n",
       "  'professor',\n",
       "  'satish',\n",
       "  'dhawan',\n",
       "  'succeeded',\n",
       "  'dr',\n",
       "  'brahm',\n",
       "  'prakash',\n",
       "  'father',\n",
       "  'nuclear',\n",
       "  'material'],\n",
       " ['lucky',\n",
       "  'worked',\n",
       "  'three',\n",
       "  'closely',\n",
       "  'consider',\n",
       "  'great',\n",
       "  'opportunity',\n",
       "  'life'],\n",
       " ['see', 'four', 'milestone', 'career']]"
      ]
     },
     "execution_count": 22,
     "metadata": {},
     "output_type": "execute_result"
    }
   ],
   "source": [
    "corpus"
   ]
  },
  {
   "cell_type": "markdown",
   "metadata": {},
   "source": [
    "### # Training the Word2Vec model"
   ]
  },
  {
   "cell_type": "code",
   "execution_count": 23,
   "metadata": {},
   "outputs": [],
   "source": [
    "model = Word2Vec(corpus, min_count=1)"
   ]
  },
  {
   "cell_type": "code",
   "execution_count": 56,
   "metadata": {},
   "outputs": [
    {
     "name": "stdout",
     "output_type": "stream",
     "text": [
      "Word2Vec(vocab=115, size=100, alpha=0.025)\n"
     ]
    }
   ],
   "source": [
    "print(model)"
   ]
  },
  {
   "cell_type": "code",
   "execution_count": 30,
   "metadata": {},
   "outputs": [],
   "source": [
    "words = model.wv.vocab"
   ]
  },
  {
   "cell_type": "code",
   "execution_count": 31,
   "metadata": {},
   "outputs": [
    {
     "data": {
      "text/plain": [
       "{'three': <gensim.models.keyedvectors.Vocab at 0x1f92f12fa60>,\n",
       " 'vision': <gensim.models.keyedvectors.Vocab at 0x1f92f12fcd0>,\n",
       " 'india': <gensim.models.keyedvectors.Vocab at 0x1f92f12fd30>,\n",
       " 'year': <gensim.models.keyedvectors.Vocab at 0x1f92f12fac0>,\n",
       " 'history': <gensim.models.keyedvectors.Vocab at 0x1f92f12f790>,\n",
       " 'people': <gensim.models.keyedvectors.Vocab at 0x1f92f12fbe0>,\n",
       " 'world': <gensim.models.keyedvectors.Vocab at 0x1f92f12f6a0>,\n",
       " 'come': <gensim.models.keyedvectors.Vocab at 0x1f92f12fe80>,\n",
       " 'invaded': <gensim.models.keyedvectors.Vocab at 0x1f92f12fb80>,\n",
       " 'u': <gensim.models.keyedvectors.Vocab at 0x1f92f12fd00>,\n",
       " 'captured': <gensim.models.keyedvectors.Vocab at 0x1f92f12feb0>,\n",
       " 'land': <gensim.models.keyedvectors.Vocab at 0x1f92f12fd60>,\n",
       " 'conquered': <gensim.models.keyedvectors.Vocab at 0x1f92f12fc40>,\n",
       " 'mind': <gensim.models.keyedvectors.Vocab at 0x1f92f12f970>,\n",
       " 'alexander': <gensim.models.keyedvectors.Vocab at 0x1f92f12f730>,\n",
       " 'onwards': <gensim.models.keyedvectors.Vocab at 0x1f92f12f490>,\n",
       " 'greek': <gensim.models.keyedvectors.Vocab at 0x1f92f12f940>,\n",
       " 'turk': <gensim.models.keyedvectors.Vocab at 0x1f92f12ff10>,\n",
       " 'mogul': <gensim.models.keyedvectors.Vocab at 0x1f92f12ff70>,\n",
       " 'portuguese': <gensim.models.keyedvectors.Vocab at 0x1f92f12fc10>,\n",
       " 'british': <gensim.models.keyedvectors.Vocab at 0x1f9338a2070>,\n",
       " 'french': <gensim.models.keyedvectors.Vocab at 0x1f9338a20d0>,\n",
       " 'dutch': <gensim.models.keyedvectors.Vocab at 0x1f9338a2130>,\n",
       " 'came': <gensim.models.keyedvectors.Vocab at 0x1f9338a2190>,\n",
       " 'looted': <gensim.models.keyedvectors.Vocab at 0x1f9338a21f0>,\n",
       " 'took': <gensim.models.keyedvectors.Vocab at 0x1f9338a2250>,\n",
       " 'yet': <gensim.models.keyedvectors.Vocab at 0x1f9338a22b0>,\n",
       " 'done': <gensim.models.keyedvectors.Vocab at 0x1f9338a2310>,\n",
       " 'nation': <gensim.models.keyedvectors.Vocab at 0x1f9338a2370>,\n",
       " 'anyone': <gensim.models.keyedvectors.Vocab at 0x1f9338a23d0>,\n",
       " 'grabbed': <gensim.models.keyedvectors.Vocab at 0x1f9338a2430>,\n",
       " 'culture': <gensim.models.keyedvectors.Vocab at 0x1f9338a2490>,\n",
       " 'tried': <gensim.models.keyedvectors.Vocab at 0x1f9338a24f0>,\n",
       " 'enforce': <gensim.models.keyedvectors.Vocab at 0x1f9338a2550>,\n",
       " 'way': <gensim.models.keyedvectors.Vocab at 0x1f9338a25b0>,\n",
       " 'life': <gensim.models.keyedvectors.Vocab at 0x1f9338a2610>,\n",
       " 'respect': <gensim.models.keyedvectors.Vocab at 0x1f9338a2670>,\n",
       " 'freedom': <gensim.models.keyedvectors.Vocab at 0x1f9338a26d0>,\n",
       " 'others': <gensim.models.keyedvectors.Vocab at 0x1f9338a2730>,\n",
       " 'first': <gensim.models.keyedvectors.Vocab at 0x1f9338a2790>,\n",
       " 'believe': <gensim.models.keyedvectors.Vocab at 0x1f9338a27f0>,\n",
       " 'got': <gensim.models.keyedvectors.Vocab at 0x1f9338a2850>,\n",
       " 'started': <gensim.models.keyedvectors.Vocab at 0x1f9338a28b0>,\n",
       " 'war': <gensim.models.keyedvectors.Vocab at 0x1f9338a2910>,\n",
       " 'independence': <gensim.models.keyedvectors.Vocab at 0x1f9338a2970>,\n",
       " 'must': <gensim.models.keyedvectors.Vocab at 0x1f9338a29d0>,\n",
       " 'protect': <gensim.models.keyedvectors.Vocab at 0x1f9338a2a30>,\n",
       " 'nurture': <gensim.models.keyedvectors.Vocab at 0x1f9338a2a90>,\n",
       " 'build': <gensim.models.keyedvectors.Vocab at 0x1f9338a2af0>,\n",
       " 'free': <gensim.models.keyedvectors.Vocab at 0x1f9338a2b50>,\n",
       " 'one': <gensim.models.keyedvectors.Vocab at 0x1f9338a2bb0>,\n",
       " 'second': <gensim.models.keyedvectors.Vocab at 0x1f9338a2c10>,\n",
       " 'development': <gensim.models.keyedvectors.Vocab at 0x1f9338a2c70>,\n",
       " 'fifty': <gensim.models.keyedvectors.Vocab at 0x1f9338a2cd0>,\n",
       " 'developing': <gensim.models.keyedvectors.Vocab at 0x1f9338a2d30>,\n",
       " 'time': <gensim.models.keyedvectors.Vocab at 0x1f9338a2d90>,\n",
       " 'see': <gensim.models.keyedvectors.Vocab at 0x1f9338a2df0>,\n",
       " 'developed': <gensim.models.keyedvectors.Vocab at 0x1f9338a2e50>,\n",
       " 'among': <gensim.models.keyedvectors.Vocab at 0x1f9338a2eb0>,\n",
       " 'top': <gensim.models.keyedvectors.Vocab at 0x1f9338a2f10>,\n",
       " 'term': <gensim.models.keyedvectors.Vocab at 0x1f9338a2f70>,\n",
       " 'gdp': <gensim.models.keyedvectors.Vocab at 0x1f9338a2fd0>,\n",
       " 'percent': <gensim.models.keyedvectors.Vocab at 0x1f9338a1070>,\n",
       " 'growth': <gensim.models.keyedvectors.Vocab at 0x1f9338a10d0>,\n",
       " 'rate': <gensim.models.keyedvectors.Vocab at 0x1f9338a1130>,\n",
       " 'area': <gensim.models.keyedvectors.Vocab at 0x1f9338a1190>,\n",
       " 'poverty': <gensim.models.keyedvectors.Vocab at 0x1f9338a11f0>,\n",
       " 'level': <gensim.models.keyedvectors.Vocab at 0x1f9338a1250>,\n",
       " 'falling': <gensim.models.keyedvectors.Vocab at 0x1f9338a12b0>,\n",
       " 'achievement': <gensim.models.keyedvectors.Vocab at 0x1f9338a1310>,\n",
       " 'globally': <gensim.models.keyedvectors.Vocab at 0x1f9338a1370>,\n",
       " 'recognised': <gensim.models.keyedvectors.Vocab at 0x1f9338a13d0>,\n",
       " 'today': <gensim.models.keyedvectors.Vocab at 0x1f9338a1430>,\n",
       " 'lack': <gensim.models.keyedvectors.Vocab at 0x1f9338a1490>,\n",
       " 'self': <gensim.models.keyedvectors.Vocab at 0x1f9338a14f0>,\n",
       " 'confidence': <gensim.models.keyedvectors.Vocab at 0x1f9338a1550>,\n",
       " 'reliant': <gensim.models.keyedvectors.Vocab at 0x1f9338a15b0>,\n",
       " 'assured': <gensim.models.keyedvectors.Vocab at 0x1f9338a1610>,\n",
       " 'incorrect': <gensim.models.keyedvectors.Vocab at 0x1f9338a1670>,\n",
       " 'third': <gensim.models.keyedvectors.Vocab at 0x1f9338a16d0>,\n",
       " 'stand': <gensim.models.keyedvectors.Vocab at 0x1f9338a1730>,\n",
       " 'unless': <gensim.models.keyedvectors.Vocab at 0x1f9338a1790>,\n",
       " 'strength': <gensim.models.keyedvectors.Vocab at 0x1f9338a17f0>,\n",
       " 'strong': <gensim.models.keyedvectors.Vocab at 0x1f9338a1850>,\n",
       " 'military': <gensim.models.keyedvectors.Vocab at 0x1f9338a18b0>,\n",
       " 'power': <gensim.models.keyedvectors.Vocab at 0x1f9338a1910>,\n",
       " 'also': <gensim.models.keyedvectors.Vocab at 0x1f9338a1970>,\n",
       " 'economic': <gensim.models.keyedvectors.Vocab at 0x1f9338a19d0>,\n",
       " 'go': <gensim.models.keyedvectors.Vocab at 0x1f9338a1a30>,\n",
       " 'hand': <gensim.models.keyedvectors.Vocab at 0x1f9338a1a90>,\n",
       " 'good': <gensim.models.keyedvectors.Vocab at 0x1f9338a1af0>,\n",
       " 'fortune': <gensim.models.keyedvectors.Vocab at 0x1f9338a1b50>,\n",
       " 'worked': <gensim.models.keyedvectors.Vocab at 0x1f9338a1bb0>,\n",
       " 'great': <gensim.models.keyedvectors.Vocab at 0x1f9338a1c10>,\n",
       " 'dr': <gensim.models.keyedvectors.Vocab at 0x1f9338a1c70>,\n",
       " 'vikram': <gensim.models.keyedvectors.Vocab at 0x1f9338a1cd0>,\n",
       " 'sarabhai': <gensim.models.keyedvectors.Vocab at 0x1f9338a1d30>,\n",
       " 'dept': <gensim.models.keyedvectors.Vocab at 0x1f9338a1d90>,\n",
       " 'space': <gensim.models.keyedvectors.Vocab at 0x1f9338a1df0>,\n",
       " 'professor': <gensim.models.keyedvectors.Vocab at 0x1f9338a1e50>,\n",
       " 'satish': <gensim.models.keyedvectors.Vocab at 0x1f9338a1eb0>,\n",
       " 'dhawan': <gensim.models.keyedvectors.Vocab at 0x1f9338a1f10>,\n",
       " 'succeeded': <gensim.models.keyedvectors.Vocab at 0x1f9338a1f70>,\n",
       " 'brahm': <gensim.models.keyedvectors.Vocab at 0x1f9338a1fd0>,\n",
       " 'prakash': <gensim.models.keyedvectors.Vocab at 0x1f93389e070>,\n",
       " 'father': <gensim.models.keyedvectors.Vocab at 0x1f93389e0d0>,\n",
       " 'nuclear': <gensim.models.keyedvectors.Vocab at 0x1f93389e160>,\n",
       " 'material': <gensim.models.keyedvectors.Vocab at 0x1f93389e1f0>,\n",
       " 'lucky': <gensim.models.keyedvectors.Vocab at 0x1f93389e250>,\n",
       " 'closely': <gensim.models.keyedvectors.Vocab at 0x1f93389e2e0>,\n",
       " 'consider': <gensim.models.keyedvectors.Vocab at 0x1f93389e310>,\n",
       " 'opportunity': <gensim.models.keyedvectors.Vocab at 0x1f93389e370>,\n",
       " 'four': <gensim.models.keyedvectors.Vocab at 0x1f93389e3d0>,\n",
       " 'milestone': <gensim.models.keyedvectors.Vocab at 0x1f93389e430>,\n",
       " 'career': <gensim.models.keyedvectors.Vocab at 0x1f93389e490>}"
      ]
     },
     "execution_count": 31,
     "metadata": {},
     "output_type": "execute_result"
    }
   ],
   "source": [
    "words"
   ]
  },
  {
   "cell_type": "code",
   "execution_count": 42,
   "metadata": {},
   "outputs": [
    {
     "data": {
      "text/plain": [
       "115"
      ]
     },
     "execution_count": 42,
     "metadata": {},
     "output_type": "execute_result"
    }
   ],
   "source": [
    "len(words)"
   ]
  },
  {
   "cell_type": "code",
   "execution_count": 34,
   "metadata": {},
   "outputs": [],
   "source": [
    "# Finding Word Vectors\n",
    "vector = model.wv['war']"
   ]
  },
  {
   "cell_type": "code",
   "execution_count": 58,
   "metadata": {},
   "outputs": [
    {
     "data": {
      "text/plain": [
       "array([-3.6701252e-04, -1.5149626e-03, -1.7825474e-03, -1.9171429e-03,\n",
       "        2.1527331e-04,  3.3512481e-03, -3.6462161e-03,  3.9226371e-03,\n",
       "        3.5866799e-03,  3.6555235e-04, -3.3595758e-03, -3.9307191e-03,\n",
       "        4.4822153e-03,  3.5204744e-04, -1.5882006e-03,  2.4210170e-03,\n",
       "       -1.2159254e-03,  2.2224685e-04, -3.7300057e-04,  4.3991557e-03,\n",
       "       -3.0627826e-03,  3.0993619e-03,  4.5029055e-03,  1.9061483e-03,\n",
       "       -1.7040501e-03,  4.2141001e-03,  4.9616629e-03,  4.8631597e-03,\n",
       "       -7.9551578e-04, -7.4363413e-04, -4.8064021e-03,  1.0189060e-03,\n",
       "       -4.1747228e-03, -2.7085084e-04, -2.5322738e-03, -1.2334400e-03,\n",
       "        1.1147024e-03, -1.6455764e-03, -1.9330130e-03, -9.6361613e-04,\n",
       "       -4.5731543e-03, -2.3212381e-04, -2.2839822e-03, -4.7030086e-03,\n",
       "       -3.0932797e-03,  4.6759052e-03, -1.6163292e-03, -4.5620897e-03,\n",
       "        4.5398199e-03,  3.3715796e-03,  3.9737974e-03,  2.9381141e-03,\n",
       "       -2.2281234e-03,  2.6107309e-03,  4.8836861e-03,  2.9123437e-03,\n",
       "        1.2545317e-04,  4.4753966e-03,  2.6368629e-03,  3.0216468e-03,\n",
       "        2.8148100e-03, -2.6649702e-03,  1.5868451e-03, -4.4316491e-03,\n",
       "       -2.6736918e-03,  4.9767280e-03,  3.0693375e-03, -4.6758228e-03,\n",
       "        2.8031929e-03,  2.4285221e-03, -4.1202796e-03, -6.2014838e-04,\n",
       "        4.1294396e-03,  5.3304672e-04,  2.6554430e-03, -1.7627627e-03,\n",
       "       -2.1004979e-04,  1.1669656e-03,  6.9415482e-04,  6.3953403e-04,\n",
       "        1.4089213e-03,  3.1860804e-03, -2.8212115e-03,  2.8304507e-03,\n",
       "        1.8899251e-03,  2.8394635e-03,  5.4269965e-04, -8.9468161e-04,\n",
       "        9.4029814e-04,  2.3192537e-03, -3.4517953e-03, -2.4918470e-05,\n",
       "        4.7603669e-03,  2.9103893e-03, -9.2678203e-04, -4.4380426e-03,\n",
       "       -1.7663662e-03, -2.4818450e-03,  1.4415925e-03,  1.9256938e-03],\n",
       "      dtype=float32)"
      ]
     },
     "execution_count": 58,
     "metadata": {},
     "output_type": "execute_result"
    }
   ],
   "source": [
    "vector"
   ]
  },
  {
   "cell_type": "code",
   "execution_count": 59,
   "metadata": {},
   "outputs": [
    {
     "name": "stderr",
     "output_type": "stream",
     "text": [
      "<ipython-input-59-ef18e3fe6ed1>:1: DeprecationWarning: Call to deprecated `__getitem__` (Method will be removed in 4.0.0, use self.wv.__getitem__() instead).\n",
      "  model['war']\n"
     ]
    },
    {
     "data": {
      "text/plain": [
       "array([-3.6701252e-04, -1.5149626e-03, -1.7825474e-03, -1.9171429e-03,\n",
       "        2.1527331e-04,  3.3512481e-03, -3.6462161e-03,  3.9226371e-03,\n",
       "        3.5866799e-03,  3.6555235e-04, -3.3595758e-03, -3.9307191e-03,\n",
       "        4.4822153e-03,  3.5204744e-04, -1.5882006e-03,  2.4210170e-03,\n",
       "       -1.2159254e-03,  2.2224685e-04, -3.7300057e-04,  4.3991557e-03,\n",
       "       -3.0627826e-03,  3.0993619e-03,  4.5029055e-03,  1.9061483e-03,\n",
       "       -1.7040501e-03,  4.2141001e-03,  4.9616629e-03,  4.8631597e-03,\n",
       "       -7.9551578e-04, -7.4363413e-04, -4.8064021e-03,  1.0189060e-03,\n",
       "       -4.1747228e-03, -2.7085084e-04, -2.5322738e-03, -1.2334400e-03,\n",
       "        1.1147024e-03, -1.6455764e-03, -1.9330130e-03, -9.6361613e-04,\n",
       "       -4.5731543e-03, -2.3212381e-04, -2.2839822e-03, -4.7030086e-03,\n",
       "       -3.0932797e-03,  4.6759052e-03, -1.6163292e-03, -4.5620897e-03,\n",
       "        4.5398199e-03,  3.3715796e-03,  3.9737974e-03,  2.9381141e-03,\n",
       "       -2.2281234e-03,  2.6107309e-03,  4.8836861e-03,  2.9123437e-03,\n",
       "        1.2545317e-04,  4.4753966e-03,  2.6368629e-03,  3.0216468e-03,\n",
       "        2.8148100e-03, -2.6649702e-03,  1.5868451e-03, -4.4316491e-03,\n",
       "       -2.6736918e-03,  4.9767280e-03,  3.0693375e-03, -4.6758228e-03,\n",
       "        2.8031929e-03,  2.4285221e-03, -4.1202796e-03, -6.2014838e-04,\n",
       "        4.1294396e-03,  5.3304672e-04,  2.6554430e-03, -1.7627627e-03,\n",
       "       -2.1004979e-04,  1.1669656e-03,  6.9415482e-04,  6.3953403e-04,\n",
       "        1.4089213e-03,  3.1860804e-03, -2.8212115e-03,  2.8304507e-03,\n",
       "        1.8899251e-03,  2.8394635e-03,  5.4269965e-04, -8.9468161e-04,\n",
       "        9.4029814e-04,  2.3192537e-03, -3.4517953e-03, -2.4918470e-05,\n",
       "        4.7603669e-03,  2.9103893e-03, -9.2678203e-04, -4.4380426e-03,\n",
       "       -1.7663662e-03, -2.4818450e-03,  1.4415925e-03,  1.9256938e-03],\n",
       "      dtype=float32)"
      ]
     },
     "execution_count": 59,
     "metadata": {},
     "output_type": "execute_result"
    }
   ],
   "source": [
    "model['war']   # it is same as above means no need to write wv >>model.wv['war']"
   ]
  },
  {
   "cell_type": "code",
   "execution_count": null,
   "metadata": {},
   "outputs": [],
   "source": []
  },
  {
   "cell_type": "code",
   "execution_count": 38,
   "metadata": {},
   "outputs": [
    {
     "data": {
      "text/plain": [
       "(100,)"
      ]
     },
     "execution_count": 38,
     "metadata": {},
     "output_type": "execute_result"
    }
   ],
   "source": [
    "vector.shape"
   ]
  },
  {
   "cell_type": "code",
   "execution_count": 53,
   "metadata": {},
   "outputs": [],
   "source": [
    "# Most similar words to word \"war\"\n",
    "similar = model.wv.most_similar('war')"
   ]
  },
  {
   "cell_type": "code",
   "execution_count": 54,
   "metadata": {},
   "outputs": [
    {
     "data": {
      "text/plain": [
       "[('today', 0.18108204007148743),\n",
       " ('dr', 0.1721724420785904),\n",
       " ('gdp', 0.16054978966712952),\n",
       " ('growth', 0.15573610365390778),\n",
       " ('self', 0.14380313456058502),\n",
       " ('unless', 0.12610147893428802),\n",
       " ('french', 0.12568704783916473),\n",
       " ('professor', 0.12198388576507568),\n",
       " ('respect', 0.11970982700586319),\n",
       " ('satish', 0.11421068012714386)]"
      ]
     },
     "execution_count": 54,
     "metadata": {},
     "output_type": "execute_result"
    }
   ],
   "source": [
    "similar"
   ]
  },
  {
   "cell_type": "code",
   "execution_count": null,
   "metadata": {},
   "outputs": [],
   "source": [
    "# 2- we can also use pretrained word2vec moldel by google which uses google news as a Train dataset\n"
   ]
  }
 ],
 "metadata": {
  "kernelspec": {
   "display_name": "Python 3",
   "language": "python",
   "name": "python3"
  },
  "language_info": {
   "codemirror_mode": {
    "name": "ipython",
    "version": 3
   },
   "file_extension": ".py",
   "mimetype": "text/x-python",
   "name": "python",
   "nbconvert_exporter": "python",
   "pygments_lexer": "ipython3",
   "version": "3.8.3"
  }
 },
 "nbformat": 4,
 "nbformat_minor": 4
}
